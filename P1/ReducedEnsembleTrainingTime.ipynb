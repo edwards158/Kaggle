{
 "cells": [
  {
   "cell_type": "markdown",
   "metadata": {},
   "source": [
    "## Dateframe Optimisation\n",
    "\n",
    "**This notebook shos how reduce the memory footprint of a pandas dataframe thus speeding up training times without loss of performance.  It can be found on my kaggle page, details given below**"
   ]
  },
  {
   "cell_type": "markdown",
   "metadata": {
    "_cell_guid": "13f6304d-fad1-4f14-8d36-f7c358b9e5e2",
    "_uuid": "9b8a3c2482d89d2e40f9d207eaf927153227efda"
   },
   "source": [
    "\n",
    "This uses the DonorsChose.org dataset \n",
    "- https://www.kaggle.com/richarde/random-forest-with-50-reduction-in-training-time/data\n",
    "\n",
    "\n",
    "Little attention is given to the actual types of data contained in pandas dataframes and how they can affect performance.\n",
    "But by carrying out some simple optimisations, training times can be dramatically reduced - in this example by 50%\n",
    "\n",
    "In this short notebook i will:\n",
    "1. Discuss the datatypes\n",
    "2. Show how to determine and reduce the memory footprint of a dataframe\n",
    "3. Run a normal and reduced memory footprint dataframe using a Random Forest algorithm with associated parameters and compare the execution times\n",
    "\n",
    "This is not an optimal machine learning solution - but using similar techniques it should be possible to reduce your training times.\n"
   ]
  },
  {
   "cell_type": "code",
   "execution_count": 1,
   "metadata": {
    "_cell_guid": "b1076dfc-b9ad-4769-8c92-a6c4dae69d19",
    "_kg_hide-input": true,
    "_uuid": "8f2839f25d086af736a60e9eeb907d3b93b6e0e5"
   },
   "outputs": [],
   "source": [
    "# This Python 3 environment comes with many helpful analytics libraries installed\n",
    "# It is defined by the kaggle/python docker image: https://github.com/kaggle/docker-python\n",
    "# For example, here's several helpful packages to load in \n",
    "\n",
    "import numpy as np\n",
    "import pandas as pd\n",
    "import matplotlib.pyplot as plt\n",
    "\n",
    "import time\n",
    "\n",
    "from sklearn.ensemble import RandomForestClassifier\n",
    "from sklearn.model_selection import KFold\n",
    "from sklearn.model_selection import cross_val_score\n",
    "from sklearn.model_selection import GridSearchCV\n",
    "\n",
    "import warnings\n",
    "warnings.filterwarnings('ignore')\n",
    "\n",
    "from IPython.core.interactiveshell import InteractiveShell\n",
    "InteractiveShell.ast_node_interactivity = \"all\"\n",
    "\n",
    "# Input data files are available in the \"../input/\" directory.\n",
    "# For example, running this (by clicking run or pressing Shift+Enter) will list the files in the input directory\n",
    "\n",
    "import os\n",
    "#print(os.listdir(\"../input\"))\n",
    "\n",
    "# Any results you write to the current directory are saved as output."
   ]
  },
  {
   "cell_type": "code",
   "execution_count": 2,
   "metadata": {
    "_cell_guid": "79c7e3d0-c299-4dcb-8224-4455121ee9b0",
    "_uuid": "d629ff2d2480ee46fbb7e2d37f6b5fab8052498a"
   },
   "outputs": [],
   "source": [
    "train = pd.read_csv('train.csv', parse_dates=['project_submitted_datetime'])\n",
    "test = pd.read_csv('test.csv', parse_dates=['project_submitted_datetime'])\n",
    "resources = pd.read_csv('resources.csv')\n",
    "#submission = pd.read_csv('sample_submission.csv')"
   ]
  },
  {
   "cell_type": "code",
   "execution_count": 3,
   "metadata": {
    "_cell_guid": "61c4bb04-aa59-4720-8477-176544a74f46",
    "_uuid": "45f1ef5f5ae62cffb29cabb7c0b766082fa6fd2e"
   },
   "outputs": [
    {
     "data": {
      "text/html": [
       "<div>\n",
       "<style scoped>\n",
       "    .dataframe tbody tr th:only-of-type {\n",
       "        vertical-align: middle;\n",
       "    }\n",
       "\n",
       "    .dataframe tbody tr th {\n",
       "        vertical-align: top;\n",
       "    }\n",
       "\n",
       "    .dataframe thead th {\n",
       "        text-align: right;\n",
       "    }\n",
       "</style>\n",
       "<table border=\"1\" class=\"dataframe\">\n",
       "  <thead>\n",
       "    <tr style=\"text-align: right;\">\n",
       "      <th></th>\n",
       "      <th>id</th>\n",
       "      <th>teacher_id</th>\n",
       "      <th>teacher_prefix</th>\n",
       "      <th>school_state</th>\n",
       "      <th>project_submitted_datetime</th>\n",
       "      <th>project_grade_category</th>\n",
       "      <th>project_subject_categories</th>\n",
       "      <th>project_subject_subcategories</th>\n",
       "      <th>project_title</th>\n",
       "      <th>project_essay_1</th>\n",
       "      <th>project_essay_2</th>\n",
       "      <th>project_essay_3</th>\n",
       "      <th>project_essay_4</th>\n",
       "      <th>project_resource_summary</th>\n",
       "      <th>teacher_number_of_previously_posted_projects</th>\n",
       "      <th>project_is_approved</th>\n",
       "    </tr>\n",
       "  </thead>\n",
       "  <tbody>\n",
       "    <tr>\n",
       "      <th>0</th>\n",
       "      <td>p036502</td>\n",
       "      <td>484aaf11257089a66cfedc9461c6bd0a</td>\n",
       "      <td>Ms.</td>\n",
       "      <td>NV</td>\n",
       "      <td>2016-11-18 14:45:59</td>\n",
       "      <td>Grades PreK-2</td>\n",
       "      <td>Literacy &amp; Language</td>\n",
       "      <td>Literacy</td>\n",
       "      <td>Super Sight Word Centers</td>\n",
       "      <td>Most of my kindergarten students come from low...</td>\n",
       "      <td>I currently have a differentiated sight word c...</td>\n",
       "      <td>NaN</td>\n",
       "      <td>NaN</td>\n",
       "      <td>My students need 6 Ipod Nano's to create and d...</td>\n",
       "      <td>26</td>\n",
       "      <td>1</td>\n",
       "    </tr>\n",
       "  </tbody>\n",
       "</table>\n",
       "</div>"
      ],
      "text/plain": [
       "        id                        teacher_id teacher_prefix school_state  \\\n",
       "0  p036502  484aaf11257089a66cfedc9461c6bd0a            Ms.           NV   \n",
       "\n",
       "  project_submitted_datetime project_grade_category  \\\n",
       "0        2016-11-18 14:45:59          Grades PreK-2   \n",
       "\n",
       "  project_subject_categories project_subject_subcategories  \\\n",
       "0        Literacy & Language                      Literacy   \n",
       "\n",
       "              project_title  \\\n",
       "0  Super Sight Word Centers   \n",
       "\n",
       "                                     project_essay_1  \\\n",
       "0  Most of my kindergarten students come from low...   \n",
       "\n",
       "                                     project_essay_2 project_essay_3  \\\n",
       "0  I currently have a differentiated sight word c...             NaN   \n",
       "\n",
       "  project_essay_4                           project_resource_summary  \\\n",
       "0             NaN  My students need 6 Ipod Nano's to create and d...   \n",
       "\n",
       "   teacher_number_of_previously_posted_projects  project_is_approved  \n",
       "0                                            26                    1  "
      ]
     },
     "execution_count": 3,
     "metadata": {},
     "output_type": "execute_result"
    },
    {
     "data": {
      "text/html": [
       "<div>\n",
       "<style scoped>\n",
       "    .dataframe tbody tr th:only-of-type {\n",
       "        vertical-align: middle;\n",
       "    }\n",
       "\n",
       "    .dataframe tbody tr th {\n",
       "        vertical-align: top;\n",
       "    }\n",
       "\n",
       "    .dataframe thead th {\n",
       "        text-align: right;\n",
       "    }\n",
       "</style>\n",
       "<table border=\"1\" class=\"dataframe\">\n",
       "  <thead>\n",
       "    <tr style=\"text-align: right;\">\n",
       "      <th></th>\n",
       "      <th>id</th>\n",
       "      <th>description</th>\n",
       "      <th>quantity</th>\n",
       "      <th>price</th>\n",
       "    </tr>\n",
       "  </thead>\n",
       "  <tbody>\n",
       "    <tr>\n",
       "      <th>0</th>\n",
       "      <td>p233245</td>\n",
       "      <td>LC652 - Lakeshore Double-Space Mobile Drying Rack</td>\n",
       "      <td>1</td>\n",
       "      <td>149.00</td>\n",
       "    </tr>\n",
       "    <tr>\n",
       "      <th>1</th>\n",
       "      <td>p069063</td>\n",
       "      <td>Bouncy Bands for Desks (Blue support pipes)</td>\n",
       "      <td>3</td>\n",
       "      <td>14.95</td>\n",
       "    </tr>\n",
       "    <tr>\n",
       "      <th>2</th>\n",
       "      <td>p069063</td>\n",
       "      <td>Cory Stories: A Kid's Book About Living With Adhd</td>\n",
       "      <td>1</td>\n",
       "      <td>8.45</td>\n",
       "    </tr>\n",
       "    <tr>\n",
       "      <th>3</th>\n",
       "      <td>p069063</td>\n",
       "      <td>Dixon Ticonderoga Wood-Cased #2 HB Pencils, Bo...</td>\n",
       "      <td>2</td>\n",
       "      <td>13.59</td>\n",
       "    </tr>\n",
       "    <tr>\n",
       "      <th>4</th>\n",
       "      <td>p069063</td>\n",
       "      <td>EDUCATIONAL INSIGHTS FLUORESCENT LIGHT FILTERS...</td>\n",
       "      <td>3</td>\n",
       "      <td>24.95</td>\n",
       "    </tr>\n",
       "  </tbody>\n",
       "</table>\n",
       "</div>"
      ],
      "text/plain": [
       "        id                                        description  quantity  \\\n",
       "0  p233245  LC652 - Lakeshore Double-Space Mobile Drying Rack         1   \n",
       "1  p069063        Bouncy Bands for Desks (Blue support pipes)         3   \n",
       "2  p069063  Cory Stories: A Kid's Book About Living With Adhd         1   \n",
       "3  p069063  Dixon Ticonderoga Wood-Cased #2 HB Pencils, Bo...         2   \n",
       "4  p069063  EDUCATIONAL INSIGHTS FLUORESCENT LIGHT FILTERS...         3   \n",
       "\n",
       "    price  \n",
       "0  149.00  \n",
       "1   14.95  \n",
       "2    8.45  \n",
       "3   13.59  \n",
       "4   24.95  "
      ]
     },
     "execution_count": 3,
     "metadata": {},
     "output_type": "execute_result"
    }
   ],
   "source": [
    "train.head(1)\n",
    "resources.head()"
   ]
  },
  {
   "cell_type": "markdown",
   "metadata": {
    "_cell_guid": "e2a6e023-cebf-404d-940f-0ea603d0f4d7",
    "_uuid": "6c3cfaf843d2d6b59601c8dd1e193b4d6cacd1bc",
    "collapsed": true
   },
   "source": [
    "For demonstration purposes we select some data from the train and resources data.  Also add a new feature  "
   ]
  },
  {
   "cell_type": "code",
   "execution_count": 4,
   "metadata": {
    "_cell_guid": "e5ce42c5-8a3c-445c-871c-f20ccf865d3d",
    "_uuid": "c9224cb44b4d27eaf44700591304c901d21a995c"
   },
   "outputs": [],
   "source": [
    "mem_df1 = train[['id','teacher_id','teacher_number_of_previously_posted_projects','project_is_approved']]\n",
    "resources['total_cost'] = resources['quantity']*resources['price']\n",
    "mem_df2 = resources[['id','quantity','price','total_cost']]"
   ]
  },
  {
   "cell_type": "code",
   "execution_count": 5,
   "metadata": {
    "_cell_guid": "9e7fbf09-9ac3-4a6a-bf5c-a53a7b35f802",
    "_uuid": "54d4a900ba9493656af755c7289c19d415cc2a95"
   },
   "outputs": [
    {
     "name": "stdout",
     "output_type": "stream",
     "text": [
      "<class 'pandas.core.frame.DataFrame'>\n",
      "Int64Index: 1081830 entries, 0 to 1081829\n",
      "Data columns (total 7 columns):\n",
      "id                                              1081830 non-null object\n",
      "teacher_id                                      1081830 non-null object\n",
      "teacher_number_of_previously_posted_projects    1081830 non-null int64\n",
      "project_is_approved                             1081830 non-null int64\n",
      "quantity                                        1081830 non-null int64\n",
      "price                                           1081830 non-null float64\n",
      "total_cost                                      1081830 non-null float64\n",
      "dtypes: float64(2), int64(3), object(2)\n",
      "memory usage: 66.0+ MB\n"
     ]
    }
   ],
   "source": [
    "train_mem = pd.merge(mem_df1,mem_df2,how='left',on='id')\n",
    "train_mem.info()"
   ]
  },
  {
   "cell_type": "markdown",
   "metadata": {
    "_cell_guid": "802b91f0-5296-4c12-b8d4-0f22c4e447e4",
    "_uuid": "0c83dc3ffd62c538654576c9731f9cdf24570803"
   },
   "source": [
    "We can see that we have strings, integers and floats.  Here we will concentrate on the numeric datatypes.  For the integer types what are the actual ranges?"
   ]
  },
  {
   "cell_type": "code",
   "execution_count": 6,
   "metadata": {
    "_cell_guid": "592d0cd4-4dfe-4575-b082-65ff4e8ae27b",
    "_uuid": "a7625dfd8aa3b53517f4f1b394b63f0bed21f934"
   },
   "outputs": [
    {
     "name": "stdout",
     "output_type": "stream",
     "text": [
      "Machine parameters for uint8\n",
      "---------------------------------------------------------------\n",
      "min = 0\n",
      "max = 255\n",
      "---------------------------------------------------------------\n",
      "\n",
      "Machine parameters for int8\n",
      "---------------------------------------------------------------\n",
      "min = -128\n",
      "max = 127\n",
      "---------------------------------------------------------------\n",
      "\n",
      "Machine parameters for int16\n",
      "---------------------------------------------------------------\n",
      "min = -32768\n",
      "max = 32767\n",
      "---------------------------------------------------------------\n",
      "\n",
      "Machine parameters for uint16\n",
      "---------------------------------------------------------------\n",
      "min = 0\n",
      "max = 65535\n",
      "---------------------------------------------------------------\n",
      "\n",
      "Machine parameters for uint64\n",
      "---------------------------------------------------------------\n",
      "min = 0\n",
      "max = 18446744073709551615\n",
      "---------------------------------------------------------------\n",
      "\n",
      "Machine parameters for int64\n",
      "---------------------------------------------------------------\n",
      "min = -9223372036854775808\n",
      "max = 9223372036854775807\n",
      "---------------------------------------------------------------\n",
      "\n"
     ]
    }
   ],
   "source": [
    "#some examples of datatypes unsigned and signed\n",
    "data_types = [\"uint8\",\"int8\",\"int16\",\"uint16\",\"uint64\",\"int64\"]\n",
    "for it in data_types:\n",
    "    print(np.iinfo(it))"
   ]
  },
  {
   "cell_type": "markdown",
   "metadata": {
    "_cell_guid": "9d688b9e-fbed-4815-8708-5eb6d7178c15",
    "_uuid": "58107c37c45fe853f8e52018f29e32493cc6f543"
   },
   "source": [
    "We can see in our dataframe we have three int64 datatypes, do we really need such a size? Lets check  "
   ]
  },
  {
   "cell_type": "code",
   "execution_count": 7,
   "metadata": {
    "_cell_guid": "d753c083-5215-4df3-ae96-97274ccdc1a5",
    "_uuid": "a6bd59287b743d728d8e80431c2e87a4a163ab86"
   },
   "outputs": [
    {
     "data": {
      "text/html": [
       "<div>\n",
       "<style scoped>\n",
       "    .dataframe tbody tr th:only-of-type {\n",
       "        vertical-align: middle;\n",
       "    }\n",
       "\n",
       "    .dataframe tbody tr th {\n",
       "        vertical-align: top;\n",
       "    }\n",
       "\n",
       "    .dataframe thead th {\n",
       "        text-align: right;\n",
       "    }\n",
       "</style>\n",
       "<table border=\"1\" class=\"dataframe\">\n",
       "  <thead>\n",
       "    <tr style=\"text-align: right;\">\n",
       "      <th></th>\n",
       "      <th>teacher_number_of_previously_posted_projects</th>\n",
       "      <th>project_is_approved</th>\n",
       "      <th>quantity</th>\n",
       "      <th>price</th>\n",
       "      <th>total_cost</th>\n",
       "    </tr>\n",
       "  </thead>\n",
       "  <tbody>\n",
       "    <tr>\n",
       "      <th>count</th>\n",
       "      <td>1.081830e+06</td>\n",
       "      <td>1.081830e+06</td>\n",
       "      <td>1.081830e+06</td>\n",
       "      <td>1.081830e+06</td>\n",
       "      <td>1.081830e+06</td>\n",
       "    </tr>\n",
       "    <tr>\n",
       "      <th>mean</th>\n",
       "      <td>1.254963e+01</td>\n",
       "      <td>7.923777e-01</td>\n",
       "      <td>2.856420e+00</td>\n",
       "      <td>5.011038e+01</td>\n",
       "      <td>9.185359e+01</td>\n",
       "    </tr>\n",
       "    <tr>\n",
       "      <th>std</th>\n",
       "      <td>3.038872e+01</td>\n",
       "      <td>4.056050e-01</td>\n",
       "      <td>7.529482e+00</td>\n",
       "      <td>1.431715e+02</td>\n",
       "      <td>2.359322e+02</td>\n",
       "    </tr>\n",
       "    <tr>\n",
       "      <th>min</th>\n",
       "      <td>0.000000e+00</td>\n",
       "      <td>0.000000e+00</td>\n",
       "      <td>1.000000e+00</td>\n",
       "      <td>0.000000e+00</td>\n",
       "      <td>0.000000e+00</td>\n",
       "    </tr>\n",
       "    <tr>\n",
       "      <th>25%</th>\n",
       "      <td>0.000000e+00</td>\n",
       "      <td>1.000000e+00</td>\n",
       "      <td>1.000000e+00</td>\n",
       "      <td>7.870000e+00</td>\n",
       "      <td>1.057000e+01</td>\n",
       "    </tr>\n",
       "    <tr>\n",
       "      <th>50%</th>\n",
       "      <td>3.000000e+00</td>\n",
       "      <td>1.000000e+00</td>\n",
       "      <td>1.000000e+00</td>\n",
       "      <td>1.499000e+01</td>\n",
       "      <td>2.533000e+01</td>\n",
       "    </tr>\n",
       "    <tr>\n",
       "      <th>75%</th>\n",
       "      <td>1.000000e+01</td>\n",
       "      <td>1.000000e+00</td>\n",
       "      <td>2.000000e+00</td>\n",
       "      <td>3.964000e+01</td>\n",
       "      <td>7.250000e+01</td>\n",
       "    </tr>\n",
       "    <tr>\n",
       "      <th>max</th>\n",
       "      <td>4.510000e+02</td>\n",
       "      <td>1.000000e+00</td>\n",
       "      <td>8.000000e+02</td>\n",
       "      <td>9.999000e+03</td>\n",
       "      <td>1.234400e+04</td>\n",
       "    </tr>\n",
       "  </tbody>\n",
       "</table>\n",
       "</div>"
      ],
      "text/plain": [
       "       teacher_number_of_previously_posted_projects  project_is_approved  \\\n",
       "count                                  1.081830e+06         1.081830e+06   \n",
       "mean                                   1.254963e+01         7.923777e-01   \n",
       "std                                    3.038872e+01         4.056050e-01   \n",
       "min                                    0.000000e+00         0.000000e+00   \n",
       "25%                                    0.000000e+00         1.000000e+00   \n",
       "50%                                    3.000000e+00         1.000000e+00   \n",
       "75%                                    1.000000e+01         1.000000e+00   \n",
       "max                                    4.510000e+02         1.000000e+00   \n",
       "\n",
       "           quantity         price    total_cost  \n",
       "count  1.081830e+06  1.081830e+06  1.081830e+06  \n",
       "mean   2.856420e+00  5.011038e+01  9.185359e+01  \n",
       "std    7.529482e+00  1.431715e+02  2.359322e+02  \n",
       "min    1.000000e+00  0.000000e+00  0.000000e+00  \n",
       "25%    1.000000e+00  7.870000e+00  1.057000e+01  \n",
       "50%    1.000000e+00  1.499000e+01  2.533000e+01  \n",
       "75%    2.000000e+00  3.964000e+01  7.250000e+01  \n",
       "max    8.000000e+02  9.999000e+03  1.234400e+04  "
      ]
     },
     "execution_count": 7,
     "metadata": {},
     "output_type": "execute_result"
    }
   ],
   "source": [
    "train_mem.describe()"
   ]
  },
  {
   "cell_type": "markdown",
   "metadata": {
    "_cell_guid": "169cff33-446e-4a68-9358-27936da694e0",
    "_uuid": "b3d36cecfc7c4cb8fbbc88a1bce22bcd57f59297"
   },
   "source": [
    "We can see that teacher_number_of_previously_posted_projects ranges from 0 to 451, project_is_approved ranges for 0 to 1 and quantity ranges from 1 to 9999.  Lets select and convert the integer types using a simple function to see how much memory we could save: "
   ]
  },
  {
   "cell_type": "code",
   "execution_count": 8,
   "metadata": {
    "_cell_guid": "32e2da39-52e3-4569-9c63-3f9dcca90995",
    "_uuid": "02e07eef933c400c638597ffefb67d5fcfd0aee5"
   },
   "outputs": [
    {
     "name": "stdout",
     "output_type": "stream",
     "text": [
      "Size of integer types before 33.01 MB\n",
      "Size of integer types after 13.41 MB\n"
     ]
    },
    {
     "data": {
      "text/html": [
       "<div>\n",
       "<style scoped>\n",
       "    .dataframe tbody tr th:only-of-type {\n",
       "        vertical-align: middle;\n",
       "    }\n",
       "\n",
       "    .dataframe tbody tr th {\n",
       "        vertical-align: top;\n",
       "    }\n",
       "\n",
       "    .dataframe thead th {\n",
       "        text-align: right;\n",
       "    }\n",
       "</style>\n",
       "<table border=\"1\" class=\"dataframe\">\n",
       "  <thead>\n",
       "    <tr style=\"text-align: right;\">\n",
       "      <th></th>\n",
       "      <th>No. of types before</th>\n",
       "      <th>No. of types after</th>\n",
       "    </tr>\n",
       "  </thead>\n",
       "  <tbody>\n",
       "    <tr>\n",
       "      <th>uint8</th>\n",
       "      <td>NaN</td>\n",
       "      <td>1.0</td>\n",
       "    </tr>\n",
       "    <tr>\n",
       "      <th>uint16</th>\n",
       "      <td>NaN</td>\n",
       "      <td>2.0</td>\n",
       "    </tr>\n",
       "    <tr>\n",
       "      <th>int64</th>\n",
       "      <td>3.0</td>\n",
       "      <td>NaN</td>\n",
       "    </tr>\n",
       "  </tbody>\n",
       "</table>\n",
       "</div>"
      ],
      "text/plain": [
       "        No. of types before  No. of types after\n",
       "uint8                   NaN                 1.0\n",
       "uint16                  NaN                 2.0\n",
       "int64                   3.0                 NaN"
      ]
     },
     "execution_count": 8,
     "metadata": {},
     "output_type": "execute_result"
    }
   ],
   "source": [
    "def mem_usage(pandas_obj):\n",
    "    usage_b = pandas_obj.memory_usage(deep=True).sum()\n",
    "    usage_mb = usage_b / 1024 ** 2 # convert bytes to megabytes\n",
    "    return \"{:03.2f} MB\".format(usage_mb)\n",
    "\n",
    "train_mem_int = train_mem.select_dtypes(include=['int64'])\n",
    "converted_int = train_mem_int.apply(pd.to_numeric,downcast='unsigned')\n",
    "\n",
    "print(\"Size of integer types before {}\".format(mem_usage(train_mem_int)))\n",
    "print(\"Size of integer types after {}\".format(mem_usage(converted_int)))\n",
    "\n",
    "compare_ints = pd.concat([train_mem_int.dtypes,converted_int.dtypes],axis=1)\n",
    "compare_ints.columns = ['No. of types before','No. of types after']\n",
    "compare_ints.apply(pd.Series.value_counts)"
   ]
  },
  {
   "cell_type": "markdown",
   "metadata": {
    "_cell_guid": "e0de25ed-6ab7-4e69-abde-ff6fbb342d74",
    "_uuid": "51151deb6ea7d5e8a22fdc6b4d36a0e705651d9e"
   },
   "source": [
    "Lets repeat this for the float columns"
   ]
  },
  {
   "cell_type": "code",
   "execution_count": 9,
   "metadata": {
    "_cell_guid": "74985813-a403-45dd-9896-3f229dddf838",
    "_uuid": "5411a4505bff043489dc5e420efc3ce738429b03"
   },
   "outputs": [
    {
     "name": "stdout",
     "output_type": "stream",
     "text": [
      "Size of float types before: 24.76 MB\n",
      "Size of float types after: 16.51 MB\n"
     ]
    },
    {
     "data": {
      "text/html": [
       "<div>\n",
       "<style scoped>\n",
       "    .dataframe tbody tr th:only-of-type {\n",
       "        vertical-align: middle;\n",
       "    }\n",
       "\n",
       "    .dataframe tbody tr th {\n",
       "        vertical-align: top;\n",
       "    }\n",
       "\n",
       "    .dataframe thead th {\n",
       "        text-align: right;\n",
       "    }\n",
       "</style>\n",
       "<table border=\"1\" class=\"dataframe\">\n",
       "  <thead>\n",
       "    <tr style=\"text-align: right;\">\n",
       "      <th></th>\n",
       "      <th>No. of types before</th>\n",
       "      <th>No. of types after</th>\n",
       "    </tr>\n",
       "  </thead>\n",
       "  <tbody>\n",
       "    <tr>\n",
       "      <th>float32</th>\n",
       "      <td>NaN</td>\n",
       "      <td>2.0</td>\n",
       "    </tr>\n",
       "    <tr>\n",
       "      <th>float64</th>\n",
       "      <td>2.0</td>\n",
       "      <td>NaN</td>\n",
       "    </tr>\n",
       "  </tbody>\n",
       "</table>\n",
       "</div>"
      ],
      "text/plain": [
       "         No. of types before  No. of types after\n",
       "float32                  NaN                 2.0\n",
       "float64                  2.0                 NaN"
      ]
     },
     "execution_count": 9,
     "metadata": {},
     "output_type": "execute_result"
    }
   ],
   "source": [
    "train_mem_float = train_mem.select_dtypes(include=['float'])\n",
    "converted_float = train_mem_float.apply(pd.to_numeric,downcast='float')\n",
    "\n",
    "print(\"Size of float types before: {}\".format(mem_usage(train_mem_float)))\n",
    "print(\"Size of float types after: {}\".format(mem_usage(converted_float)))\n",
    "\n",
    "compare_floats = pd.concat([train_mem_float.dtypes,converted_float.dtypes],axis=1)\n",
    "compare_floats.columns = ['No. of types before','No. of types after']\n",
    "compare_floats.apply(pd.Series.value_counts)"
   ]
  },
  {
   "cell_type": "markdown",
   "metadata": {
    "_cell_guid": "262859b3-3874-4745-8563-db509b452833",
    "_uuid": "8e644969a16a9449c5641d9f0062dd6a4c0cb3a7"
   },
   "source": [
    "Ok, lets try a simple gridsearch using random forest on the ORIGINAL datatype dataframe"
   ]
  },
  {
   "cell_type": "code",
   "execution_count": 10,
   "metadata": {
    "_cell_guid": "5972c763-b6a0-4e4d-85f5-1112dc1afb23",
    "_uuid": "cd40a62f7691aded222f8c31ab7c8f49e4676dd5"
   },
   "outputs": [
    {
     "name": "stdout",
     "output_type": "stream",
     "text": [
      "teacher_number_of_previously_posted_projects      int64\n",
      "quantity                                          int64\n",
      "price                                           float64\n",
      "total_cost                                      float64\n",
      "dtype: object\n",
      " \n",
      "int64\n"
     ]
    }
   ],
   "source": [
    "X = train_mem.drop(['id', 'project_is_approved','teacher_id'], axis=1)\n",
    "y = train_mem['project_is_approved']\n",
    "print(X.dtypes)\n",
    "print(\" \")\n",
    "print(y.dtypes)"
   ]
  },
  {
   "cell_type": "code",
   "execution_count": 11,
   "metadata": {
    "_cell_guid": "91f5367b-bc12-47a9-a3f4-16fba63aa55b",
    "_uuid": "c3d1eff601ebcd7a279565d785a1b2a66493b9c7"
   },
   "outputs": [
    {
     "name": "stdout",
     "output_type": "stream",
     "text": [
      "Best: 0.792378 using {'max_depth': 5, 'min_samples_split': 3}\n",
      "Time taken in grid search:  53.51\n"
     ]
    }
   ],
   "source": [
    "num_folds = 5\n",
    "seed = 7\n",
    "scoring = 'accuracy'\n",
    "\n",
    "start = time.time()\n",
    "param_grid = {'max_depth': [5,8],\n",
    "              'min_samples_split':[3,5]\n",
    "             }\n",
    "\n",
    "model = RandomForestClassifier(n_jobs=-1)\n",
    "kfold =KFold(n_splits = num_folds,random_state = seed)\n",
    "grid = GridSearchCV(estimator = model,param_grid = param_grid,scoring=scoring,cv=kfold)\n",
    "grid_result = grid.fit(X,y)\n",
    "print(\"Best: %f using %s\" % (grid_result.best_score_, grid_result.best_params_))\n",
    "end = time.time()\n",
    "print('Time taken in grid search: {0: .2f}'.format(end - start))\n",
    "time_first = end - start"
   ]
  },
  {
   "cell_type": "markdown",
   "metadata": {
    "_cell_guid": "a5647f9a-1515-4baf-aad6-34d54de8b48c",
    "_uuid": "df5e22965e3d7c046a459e7b39221fe6b406daee"
   },
   "source": [
    "Lets replace the int and float datatypes with the values calculated above"
   ]
  },
  {
   "cell_type": "code",
   "execution_count": 12,
   "metadata": {
    "_cell_guid": "b3411f89-c4bd-4c24-8221-a233bf98f0fe",
    "_uuid": "bf9961adb23410834dbc3ce85b2746f434eb92aa"
   },
   "outputs": [],
   "source": [
    "columns_to_overwrite_float = ['total_cost','price']\n",
    "train_mem.drop(labels=columns_to_overwrite_float, axis=\"columns\", inplace=True)\n",
    "train_mem[columns_to_overwrite_float] = converted_float[columns_to_overwrite_float]"
   ]
  },
  {
   "cell_type": "code",
   "execution_count": 13,
   "metadata": {
    "_cell_guid": "4bd6f602-13e6-4c16-9a8a-f07d934668e7",
    "_uuid": "5e20e54f1fcffc36d6a8c766f7e880c7eabb9198"
   },
   "outputs": [],
   "source": [
    "columns_to_overwrite_int = ['teacher_number_of_previously_posted_projects','project_is_approved','quantity']\n",
    "train_mem.drop(labels=columns_to_overwrite_int, axis=\"columns\", inplace=True)\n",
    "train_mem[columns_to_overwrite_int] = converted_int[columns_to_overwrite_int]"
   ]
  },
  {
   "cell_type": "code",
   "execution_count": 19,
   "metadata": {
    "_uuid": "7deeeb6fdba077a1b4460cdfa9f6cb6019c0979c"
   },
   "outputs": [
    {
     "data": {
      "text/html": [
       "<div>\n",
       "<style scoped>\n",
       "    .dataframe tbody tr th:only-of-type {\n",
       "        vertical-align: middle;\n",
       "    }\n",
       "\n",
       "    .dataframe tbody tr th {\n",
       "        vertical-align: top;\n",
       "    }\n",
       "\n",
       "    .dataframe thead th {\n",
       "        text-align: right;\n",
       "    }\n",
       "</style>\n",
       "<table border=\"1\" class=\"dataframe\">\n",
       "  <thead>\n",
       "    <tr style=\"text-align: right;\">\n",
       "      <th></th>\n",
       "      <th>teacher_number_of_previously_posted_projects</th>\n",
       "      <th>project_is_approved</th>\n",
       "      <th>quantity</th>\n",
       "    </tr>\n",
       "  </thead>\n",
       "  <tbody>\n",
       "    <tr>\n",
       "      <th>0</th>\n",
       "      <td>26</td>\n",
       "      <td>1</td>\n",
       "      <td>3</td>\n",
       "    </tr>\n",
       "    <tr>\n",
       "      <th>1</th>\n",
       "      <td>26</td>\n",
       "      <td>1</td>\n",
       "      <td>3</td>\n",
       "    </tr>\n",
       "    <tr>\n",
       "      <th>2</th>\n",
       "      <td>1</td>\n",
       "      <td>0</td>\n",
       "      <td>20</td>\n",
       "    </tr>\n",
       "    <tr>\n",
       "      <th>3</th>\n",
       "      <td>5</td>\n",
       "      <td>1</td>\n",
       "      <td>1</td>\n",
       "    </tr>\n",
       "    <tr>\n",
       "      <th>4</th>\n",
       "      <td>16</td>\n",
       "      <td>0</td>\n",
       "      <td>1</td>\n",
       "    </tr>\n",
       "    <tr>\n",
       "      <th>5</th>\n",
       "      <td>16</td>\n",
       "      <td>0</td>\n",
       "      <td>1</td>\n",
       "    </tr>\n",
       "    <tr>\n",
       "      <th>6</th>\n",
       "      <td>16</td>\n",
       "      <td>0</td>\n",
       "      <td>1</td>\n",
       "    </tr>\n",
       "    <tr>\n",
       "      <th>7</th>\n",
       "      <td>16</td>\n",
       "      <td>0</td>\n",
       "      <td>1</td>\n",
       "    </tr>\n",
       "    <tr>\n",
       "      <th>8</th>\n",
       "      <td>16</td>\n",
       "      <td>0</td>\n",
       "      <td>1</td>\n",
       "    </tr>\n",
       "    <tr>\n",
       "      <th>9</th>\n",
       "      <td>42</td>\n",
       "      <td>1</td>\n",
       "      <td>2</td>\n",
       "    </tr>\n",
       "  </tbody>\n",
       "</table>\n",
       "</div>"
      ],
      "text/plain": [
       "   teacher_number_of_previously_posted_projects  project_is_approved  quantity\n",
       "0                                            26                    1         3\n",
       "1                                            26                    1         3\n",
       "2                                             1                    0        20\n",
       "3                                             5                    1         1\n",
       "4                                            16                    0         1\n",
       "5                                            16                    0         1\n",
       "6                                            16                    0         1\n",
       "7                                            16                    0         1\n",
       "8                                            16                    0         1\n",
       "9                                            42                    1         2"
      ]
     },
     "execution_count": 19,
     "metadata": {},
     "output_type": "execute_result"
    }
   ],
   "source": [
    "converted_int[:10]"
   ]
  },
  {
   "cell_type": "code",
   "execution_count": 20,
   "metadata": {
    "_cell_guid": "1b2ef06e-11a2-4551-adc7-ea0b881048e0",
    "_uuid": "f13e2889bf9d440ad64317a039206e7d2fae28c1"
   },
   "outputs": [
    {
     "name": "stdout",
     "output_type": "stream",
     "text": [
      "<class 'pandas.core.frame.DataFrame'>\n",
      "Int64Index: 1081830 entries, 0 to 1081829\n",
      "Data columns (total 7 columns):\n",
      "id                                              1081830 non-null object\n",
      "teacher_id                                      1081830 non-null object\n",
      "total_cost                                      1081830 non-null float32\n",
      "price                                           1081830 non-null float32\n",
      "teacher_number_of_previously_posted_projects    1081830 non-null uint16\n",
      "project_is_approved                             1081830 non-null uint8\n",
      "quantity                                        1081830 non-null uint16\n",
      "dtypes: float32(2), object(2), uint16(2), uint8(1)\n",
      "memory usage: 38.2+ MB\n"
     ]
    }
   ],
   "source": [
    "train_mem_after = train_mem.copy(deep=True)\n",
    "train_mem_after.info()"
   ]
  },
  {
   "cell_type": "markdown",
   "metadata": {
    "_cell_guid": "9a9fb05e-12a0-4ec1-8fb5-54d2bdf17461",
    "_uuid": "e2a3679ada5f0a7abdfc8eee7c9dd786d8b2f328"
   },
   "source": [
    "This new dataframe has a memory usage of 38 MB down from 66MB in the original"
   ]
  },
  {
   "cell_type": "code",
   "execution_count": 16,
   "metadata": {
    "_cell_guid": "12a18a1b-d1fc-499a-b2b9-dd0e09ad48ef",
    "_uuid": "82689afe998b42ae872c44d8e66d8652dec4069c"
   },
   "outputs": [
    {
     "name": "stdout",
     "output_type": "stream",
     "text": [
      "total_cost                                      float32\n",
      "price                                           float32\n",
      "teacher_number_of_previously_posted_projects     uint16\n",
      "quantity                                         uint16\n",
      "dtype: object\n",
      " \n",
      "uint8\n"
     ]
    }
   ],
   "source": [
    "X = train_mem_after.drop(['id', 'project_is_approved','teacher_id'], axis=1)\n",
    "y = train_mem_after['project_is_approved']\n",
    "print(X.dtypes)\n",
    "print(\" \")\n",
    "print(y.dtypes)"
   ]
  },
  {
   "cell_type": "code",
   "execution_count": 17,
   "metadata": {
    "_cell_guid": "e0ee69e7-ab37-4524-929f-0ae3cce49323",
    "_uuid": "7553c5fdecbc15011c1f68aaf87a84fb32d26726"
   },
   "outputs": [
    {
     "name": "stdout",
     "output_type": "stream",
     "text": [
      "Best: 0.792378 using {'max_depth': 5, 'min_samples_split': 3}\n",
      "Time taken in grid search:  27.63\n"
     ]
    }
   ],
   "source": [
    "start = time.time()\n",
    "\n",
    "param_grid = {'max_depth': [5,8],\n",
    "              'min_samples_split':[3]\n",
    "             }\n",
    "model = RandomForestClassifier(n_jobs=-1)\n",
    "kfold =KFold(n_splits = num_folds,random_state = seed)\n",
    "grid = GridSearchCV(estimator = model,param_grid = param_grid,scoring=scoring,cv=kfold)\n",
    "grid_result = grid.fit(X,y)\n",
    "\n",
    "print(\"Best: %f using %s\" % (grid_result.best_score_, grid_result.best_params_))\n",
    "\n",
    "end = time.time()\n",
    "print('Time taken in grid search: {0: .2f}'.format(end - start))\n",
    "time_second = end - start"
   ]
  },
  {
   "cell_type": "code",
   "execution_count": 18,
   "metadata": {
    "_uuid": "2637f2f82b5bede4a4f98aac687623943317bd32",
    "scrolled": false
   },
   "outputs": [
    {
     "data": {
      "image/png": "[encoded data removed]",
      "text/plain": [
       "<Figure size 720x360 with 1 Axes>"
      ]
     },
     "metadata": {},
     "output_type": "display_data"
    }
   ],
   "source": [
    "plt.figure(figsize=(10,5))\n",
    "x_pos = [0,1]\n",
    "x_label= ['before','after']\n",
    "scores = [time_first,time_second]\n",
    "plt.bar(x_pos,scores,align='center')\n",
    "plt.xlabel('Memory Optimisation',fontsize=12)\n",
    "plt.xticks(x_pos,x_label)\n",
    "plt.ylabel('Time taken in secs',fontsize=12)\n",
    "plt.title('Time taken by Random Forest before and after mem. optimisation',fontsize=14)\n",
    "plt.show();"
   ]
  },
  {
   "cell_type": "markdown",
   "metadata": {
    "_cell_guid": "92418f0d-21b7-4f47-b1eb-78594882455c",
    "_uuid": "ef6fc751fc3818892f56f3fdc128696ab778b97c"
   },
   "source": [
    "**We have reduced our training time by approximately 50% and still achieved the same accuracy score**"
   ]
  },
  {
   "cell_type": "markdown",
   "metadata": {
    "_cell_guid": "7bc2ebab-5702-413e-a908-c0021b871811",
    "_uuid": "5b89da335ac899f3e02902dd8d174f29374f32eb"
   },
   "source": [
    "This simple example has demonstrated that by having greater understanding of the underlying data, it is possible to reduce the required processing times without any degradation in performance. \n",
    "\n",
    "If you found this notebook interesting please upvote it!"
   ]
  },
  {
   "cell_type": "code",
   "execution_count": null,
   "metadata": {
    "_cell_guid": "a63ee5be-8051-4172-b297-1d76ab5d6494",
    "_uuid": "f5e717b872a904030ba10f92968d98db731a64a2"
   },
   "outputs": [],
   "source": []
  }
 ],
 "metadata": {
  "kernelspec": {
   "display_name": "Python 3",
   "language": "python",
   "name": "python3"
  },
  "language_info": {
   "codemirror_mode": {
    "name": "ipython",
    "version": 3
   },
   "file_extension": ".py",
   "mimetype": "text/x-python",
   "name": "python",
   "nbconvert_exporter": "python",
   "pygments_lexer": "ipython3",
   "version": "3.6.4"
  }
 },
 "nbformat": 4,
 "nbformat_minor": 1
}
